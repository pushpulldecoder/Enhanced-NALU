{
 "cells": [
  {
   "cell_type": "code",
   "execution_count": 1,
   "metadata": {},
   "outputs": [],
   "source": [
    "import torch\n",
    "from matplotlib import pyplot as plt\n",
    "import numpy as np\n",
    "from torch import nn\n",
    "from torch.nn import functional as F\n",
    "\n",
    "from torchviz import make_dot, make_dot_from_trace "
   ]
  },
  {
   "cell_type": "code",
   "execution_count": 2,
   "metadata": {},
   "outputs": [],
   "source": [
    "DEVICE = \"cpu\""
   ]
  },
  {
   "cell_type": "code",
   "execution_count": 3,
   "metadata": {},
   "outputs": [],
   "source": [
    "class NAC(nn.Module):\n",
    "    \n",
    "    def __init__(self, parameter):\n",
    "        super().__init__()\n",
    "        self.no_inp = parameter.get(\"no_input\")\n",
    "        self.no_out = parameter.get(\"no_output\")\n",
    "        self.w_hat = nn.Parameter(torch.Tensor(self.no_out, self.no_inp).to(DEVICE))\n",
    "        self.m_hat = nn.Parameter(torch.Tensor(self.no_out, self.no_inp).to(DEVICE))\n",
    "        nn.init.xavier_normal_(self.w_hat)\n",
    "        nn.init.xavier_normal_(self.m_hat)\n",
    "        self.bias = None\n",
    "        \n",
    "    def forward(self, x):\n",
    "        W = torch.tanh(self.w_hat) * torch.sigmoid(self.m_hat)\n",
    "        return F.linear(x, W, self.bias)"
   ]
  },
  {
   "cell_type": "code",
   "execution_count": 4,
   "metadata": {},
   "outputs": [],
   "source": [
    "class NALU(nn.Module):\n",
    "    def __init__(self, parameter):\n",
    "        super().__init__()\n",
    "        self.f = nn.Parameter(torch.Tensor(1, 1).to(DEVICE))\n",
    "        nn.init.xavier_normal_(self.f)\n",
    "        self.g = nn.Parameter(torch.Tensor(1, 1).to(DEVICE))\n",
    "        nn.init.xavier_normal_(self.g)\n",
    "        self.h = nn.Parameter(torch.Tensor(1, 1).to(DEVICE))\n",
    "        nn.init.xavier_normal_(self.h)\n",
    "        self.nac = NAC(parameter)\n",
    "        self.eps = 1e-12\n",
    "\n",
    "    def forward(self, x):\n",
    "        f = torch.sigmoid(self.f)\n",
    "        a = self.nac(x)\n",
    "        \n",
    "        g = torch.sigmoid(self.g)\n",
    "        m = self.nac(torch.log(torch.abs(x) + self.eps))\n",
    "        m = torch.exp(m)\n",
    "        \n",
    "        h = torch.sigmoid(self.h)\n",
    "        p = self.nac(torch.log(torch.stack((torch.log(torch.abs(x[:, 0])), x[:, 1])).T) + self.eps)\n",
    "        p = torch.exp(p)\n",
    "        p = torch.exp(p)\n",
    "        \n",
    "        y = (f*a) + (g*m) + (h*p)\n",
    "        return y"
   ]
  },
  {
   "cell_type": "code",
   "execution_count": 5,
   "metadata": {},
   "outputs": [],
   "source": [
    "# class PLU(nn.Module):\n",
    "#     def __init__(self, parameter):\n",
    "#         super().__init__()\n",
    "#         self.h = nn.Parameter(torch.Tensor(1, 1).to(DEVICE))\n",
    "#         nn.init.xavier_normal_(self.h)\n",
    "#         self.nalu = NALU(parameter)\n",
    "#         self.nac  = NAC(parameter)\n",
    "#         self.eps = 1e-12\n",
    "\n",
    "#     def forward(self, x):\n",
    "#         m = self.nalu(x)\n",
    "#         h = torch.sigmoid(self.h)\n",
    "#         x[0, 0] = torch.log(x[0, 0])\n",
    "#         x_ = \n",
    "#         p = self.nac(torch.log(torch.abs(x) + self.eps))\n",
    "#         p = torch.exp(m)\n",
    "#         y = (h * m) + (1 - h) * p\n",
    "#         return y"
   ]
  },
  {
   "cell_type": "code",
   "execution_count": null,
   "metadata": {},
   "outputs": [],
   "source": []
  },
  {
   "cell_type": "code",
   "execution_count": 6,
   "metadata": {},
   "outputs": [],
   "source": [
    "def data_generator(min_val, max_val, num_obs, op):\n",
    "    data = np.random.uniform(min_val, max_val, size=(num_obs, 2))\n",
    "    if op == '+':\n",
    "        targets = data[:, 0] + data[:, 1]\n",
    "    elif op == '-':\n",
    "        targets = data[:, 0] - data[:, 1]\n",
    "    elif op == '*':\n",
    "        targets = data[:, 0] * data[:, 1]\n",
    "    elif op == '/':\n",
    "        targets = data[:, 0] / data[:, 1]\n",
    "    elif op == 'p':\n",
    "        targets = np.power(data[:, 0], data[:, 1])\n",
    "    elif op == 'sqrt':\n",
    "        data = np.random.uniform(min_val, max_val, size=(num_obs, 1))\n",
    "        targets = np.sqrt(data)\n",
    "    return data, targets"
   ]
  },
  {
   "cell_type": "code",
   "execution_count": 7,
   "metadata": {},
   "outputs": [],
   "source": [
    "def get_batches(x, y, data_size, batch_size):\n",
    "    for id_ in range(0, data_size, batch_size):\n",
    "        x_batch = x[id_:id_+batch_size]\n",
    "        y_batch = y[id_:id_+batch_size]\n",
    "        \n",
    "        x_batch = torch.from_numpy(x_batch).float()\n",
    "        y_batch = torch.from_numpy(y_batch).float().view(-1, 1)\n",
    "        \n",
    "        yield x_batch, y_batch\n",
    "\n",
    "def train(train_parameter):\n",
    "    \n",
    "    model      = train_parameter.get(\"model\")\n",
    "    no_epoch   = train_parameter.get(\"no_epoch\")\n",
    "    data_size  = train_parameter.get(\"data_size\")\n",
    "    min_val    = train_parameter.get(\"min_val\")\n",
    "    max_val    = train_parameter.get(\"max_val\")\n",
    "    no_epoch   = train_parameter.get(\"no_epoch\")\n",
    "    batch_size = train_parameter.get(\"batch_size\")\n",
    "    operation  = train_parameter.get(\"operation\")\n",
    "    loss       = train_parameter.get(\"loss\")\n",
    "    \n",
    "    x_train, y_train = data_generator(min_val, max_val, data_size, operation)\n",
    "    \n",
    "    optimizer = torch.optim.Adam(model.parameters())\n",
    "    \n",
    "    train_error = []\n",
    "    \n",
    "    step = 0\n",
    "    for epoch in range(no_epoch):\n",
    "        model.train()\n",
    "        \n",
    "        for x, y in get_batches(x_train, y_train, data_size, batch_size):\n",
    "            step+=1\n",
    "            \n",
    "            output = model(x)\n",
    "            error = loss(output, y)\n",
    "            optimizer.zero_grad()\n",
    "            error.backward()\n",
    "            optimizer.step()\n",
    "            \n",
    "            train_error.append(error.item())\n",
    "\n",
    "            \n",
    "            if step%1000==0:\n",
    "                print(error.item())\n",
    "            \n",
    "        \n",
    "    return model"
   ]
  },
  {
   "cell_type": "code",
   "execution_count": null,
   "metadata": {},
   "outputs": [],
   "source": []
  },
  {
   "cell_type": "code",
   "execution_count": 28,
   "metadata": {},
   "outputs": [],
   "source": [
    "model_parameter  = {\n",
    "                    \"no_input\":2,\n",
    "                    \"no_output\":1\n",
    "                    }"
   ]
  },
  {
   "cell_type": "code",
   "execution_count": 29,
   "metadata": {},
   "outputs": [],
   "source": [
    "ALU = NALU(model_parameter)"
   ]
  },
  {
   "cell_type": "code",
   "execution_count": 30,
   "metadata": {},
   "outputs": [],
   "source": [
    "model      = ALU\n",
    "min_val    = 2\n",
    "max_val    = 3\n",
    "data_size  = 10000\n",
    "batch_size = 32\n",
    "no_epoch   = 500\n",
    "operation  = \"p\"\n",
    "loss       = torch.nn.SmoothL1Loss()\n",
    "\n",
    "\n",
    "train_parameter = {\n",
    "                    \"model\":model,\n",
    "                    \"min_val\": min_val,\n",
    "                    \"max_val\": max_val,\n",
    "                    \"no_input\": data_size,\n",
    "                    \"no_epoch\": no_epoch,\n",
    "                    \"data_size\": data_size,\n",
    "                    \"batch_size\": batch_size,\n",
    "                    \"operation\":operation,\n",
    "                    \"loss\": loss\n",
    "                  }"
   ]
  },
  {
   "cell_type": "code",
   "execution_count": 31,
   "metadata": {},
   "outputs": [
    {
     "name": "stdout",
     "output_type": "stream",
     "text": [
      "2.710010051727295\n",
      "1.720920443534851\n",
      "1.3475896120071411\n",
      "1.4203940629959106\n",
      "0.8509520292282104\n",
      "0.2796354591846466\n",
      "0.18598200380802155\n",
      "0.16799788177013397\n",
      "0.16036784648895264\n",
      "0.051559485495090485\n",
      "0.016221828758716583\n",
      "0.012855966575443745\n",
      "0.005095021333545446\n",
      "0.009688318707048893\n",
      "0.003611541585996747\n",
      "0.002286378527060151\n",
      "0.0011319861514493823\n",
      "0.0007205072324723005\n",
      "0.0008036943036131561\n",
      "0.0003007643099408597\n",
      "0.00020248637883923948\n",
      "0.00014565429592039436\n",
      "0.00010818843293236569\n",
      "5.703046917915344e-05\n",
      "6.36969052720815e-05\n",
      "3.47251225321088e-05\n",
      "1.2277703717700206e-05\n",
      "1.0700600796553772e-05\n",
      "1.2401682397467084e-05\n",
      "6.543134531966643e-06\n",
      "2.909980594267836e-06\n",
      "2.9880245620006463e-06\n",
      "1.8976365936396178e-06\n",
      "1.5945489622026798e-06\n",
      "7.409159934468335e-07\n",
      "6.118475539551582e-07\n",
      "2.4697141043361626e-07\n",
      "1.6713077855001757e-07\n",
      "2.551971647335449e-07\n",
      "1.0320827925625053e-07\n",
      "7.186690709204413e-08\n",
      "4.6677943288386814e-08\n",
      "4.420363808321781e-08\n",
      "2.5201224218562857e-08\n",
      "1.3532115872294526e-08\n",
      "8.894758707356232e-09\n",
      "7.460460693664572e-09\n"
     ]
    },
    {
     "ename": "KeyboardInterrupt",
     "evalue": "",
     "output_type": "error",
     "traceback": [
      "\u001b[0;31m-----------------------------------------------------------------------\u001b[0m",
      "\u001b[0;31mKeyboardInterrupt\u001b[0m                     Traceback (most recent call last)",
      "\u001b[0;32m<ipython-input-31-f0c3567c5b16>\u001b[0m in \u001b[0;36m<module>\u001b[0;34m\u001b[0m\n\u001b[0;32m----> 1\u001b[0;31m \u001b[0merror\u001b[0m \u001b[0;34m=\u001b[0m \u001b[0mtrain\u001b[0m\u001b[0;34m(\u001b[0m\u001b[0mtrain_parameter\u001b[0m\u001b[0;34m)\u001b[0m\u001b[0;34m\u001b[0m\u001b[0;34m\u001b[0m\u001b[0m\n\u001b[0m",
      "\u001b[0;32m<ipython-input-27-375409a42445>\u001b[0m in \u001b[0;36mtrain\u001b[0;34m(train_parameter)\u001b[0m\n\u001b[1;32m     38\u001b[0m             \u001b[0moptimizer\u001b[0m\u001b[0;34m.\u001b[0m\u001b[0mzero_grad\u001b[0m\u001b[0;34m(\u001b[0m\u001b[0;34m)\u001b[0m\u001b[0;34m\u001b[0m\u001b[0;34m\u001b[0m\u001b[0m\n\u001b[1;32m     39\u001b[0m             \u001b[0merror\u001b[0m\u001b[0;34m.\u001b[0m\u001b[0mbackward\u001b[0m\u001b[0;34m(\u001b[0m\u001b[0;34m)\u001b[0m\u001b[0;34m\u001b[0m\u001b[0;34m\u001b[0m\u001b[0m\n\u001b[0;32m---> 40\u001b[0;31m             \u001b[0moptimizer\u001b[0m\u001b[0;34m.\u001b[0m\u001b[0mstep\u001b[0m\u001b[0;34m(\u001b[0m\u001b[0;34m)\u001b[0m\u001b[0;34m\u001b[0m\u001b[0;34m\u001b[0m\u001b[0m\n\u001b[0m\u001b[1;32m     41\u001b[0m \u001b[0;34m\u001b[0m\u001b[0m\n\u001b[1;32m     42\u001b[0m             \u001b[0mtrain_error\u001b[0m\u001b[0;34m.\u001b[0m\u001b[0mappend\u001b[0m\u001b[0;34m(\u001b[0m\u001b[0merror\u001b[0m\u001b[0;34m.\u001b[0m\u001b[0mitem\u001b[0m\u001b[0;34m(\u001b[0m\u001b[0;34m)\u001b[0m\u001b[0;34m)\u001b[0m\u001b[0;34m\u001b[0m\u001b[0;34m\u001b[0m\u001b[0m\n",
      "\u001b[0;32m/usr/lib/python3.8/site-packages/torch/optim/adam.py\u001b[0m in \u001b[0;36mstep\u001b[0;34m(self, closure)\u001b[0m\n\u001b[1;32m    101\u001b[0m                     \u001b[0mdenom\u001b[0m \u001b[0;34m=\u001b[0m \u001b[0;34m(\u001b[0m\u001b[0mmax_exp_avg_sq\u001b[0m\u001b[0;34m.\u001b[0m\u001b[0msqrt\u001b[0m\u001b[0;34m(\u001b[0m\u001b[0;34m)\u001b[0m \u001b[0;34m/\u001b[0m \u001b[0mmath\u001b[0m\u001b[0;34m.\u001b[0m\u001b[0msqrt\u001b[0m\u001b[0;34m(\u001b[0m\u001b[0mbias_correction2\u001b[0m\u001b[0;34m)\u001b[0m\u001b[0;34m)\u001b[0m\u001b[0;34m.\u001b[0m\u001b[0madd_\u001b[0m\u001b[0;34m(\u001b[0m\u001b[0mgroup\u001b[0m\u001b[0;34m[\u001b[0m\u001b[0;34m'eps'\u001b[0m\u001b[0;34m]\u001b[0m\u001b[0;34m)\u001b[0m\u001b[0;34m\u001b[0m\u001b[0;34m\u001b[0m\u001b[0m\n\u001b[1;32m    102\u001b[0m                 \u001b[0;32melse\u001b[0m\u001b[0;34m:\u001b[0m\u001b[0;34m\u001b[0m\u001b[0;34m\u001b[0m\u001b[0m\n\u001b[0;32m--> 103\u001b[0;31m                     \u001b[0mdenom\u001b[0m \u001b[0;34m=\u001b[0m \u001b[0;34m(\u001b[0m\u001b[0mexp_avg_sq\u001b[0m\u001b[0;34m.\u001b[0m\u001b[0msqrt\u001b[0m\u001b[0;34m(\u001b[0m\u001b[0;34m)\u001b[0m \u001b[0;34m/\u001b[0m \u001b[0mmath\u001b[0m\u001b[0;34m.\u001b[0m\u001b[0msqrt\u001b[0m\u001b[0;34m(\u001b[0m\u001b[0mbias_correction2\u001b[0m\u001b[0;34m)\u001b[0m\u001b[0;34m)\u001b[0m\u001b[0;34m.\u001b[0m\u001b[0madd_\u001b[0m\u001b[0;34m(\u001b[0m\u001b[0mgroup\u001b[0m\u001b[0;34m[\u001b[0m\u001b[0;34m'eps'\u001b[0m\u001b[0;34m]\u001b[0m\u001b[0;34m)\u001b[0m\u001b[0;34m\u001b[0m\u001b[0;34m\u001b[0m\u001b[0m\n\u001b[0m\u001b[1;32m    104\u001b[0m \u001b[0;34m\u001b[0m\u001b[0m\n\u001b[1;32m    105\u001b[0m                 \u001b[0mstep_size\u001b[0m \u001b[0;34m=\u001b[0m \u001b[0mgroup\u001b[0m\u001b[0;34m[\u001b[0m\u001b[0;34m'lr'\u001b[0m\u001b[0;34m]\u001b[0m \u001b[0;34m/\u001b[0m \u001b[0mbias_correction1\u001b[0m\u001b[0;34m\u001b[0m\u001b[0;34m\u001b[0m\u001b[0m\n",
      "\u001b[0;31mKeyboardInterrupt\u001b[0m: "
     ]
    }
   ],
   "source": [
    "error = train(train_parameter)"
   ]
  },
  {
   "cell_type": "code",
   "execution_count": null,
   "metadata": {},
   "outputs": [],
   "source": []
  },
  {
   "cell_type": "code",
   "execution_count": null,
   "metadata": {},
   "outputs": [],
   "source": []
  },
  {
   "cell_type": "code",
   "execution_count": 55,
   "metadata": {},
   "outputs": [],
   "source": [
    "ques = (torch.rand([1, 2]).to(DEVICE))*4"
   ]
  },
  {
   "cell_type": "code",
   "execution_count": 56,
   "metadata": {},
   "outputs": [],
   "source": [
    "# ques[0, 0] /= 100"
   ]
  },
  {
   "cell_type": "code",
   "execution_count": 57,
   "metadata": {},
   "outputs": [
    {
     "data": {
      "text/plain": [
       "torch.Size([1, 2])"
      ]
     },
     "execution_count": 57,
     "metadata": {},
     "output_type": "execute_result"
    }
   ],
   "source": [
    "ques.shape"
   ]
  },
  {
   "cell_type": "code",
   "execution_count": 58,
   "metadata": {},
   "outputs": [
    {
     "data": {
      "text/plain": [
       "tensor([[3.5086, 3.2166]])"
      ]
     },
     "execution_count": 58,
     "metadata": {},
     "output_type": "execute_result"
    }
   ],
   "source": [
    "ques"
   ]
  },
  {
   "cell_type": "code",
   "execution_count": 59,
   "metadata": {},
   "outputs": [
    {
     "data": {
      "text/plain": [
       "56.688621520996094"
      ]
     },
     "execution_count": 59,
     "metadata": {},
     "output_type": "execute_result"
    }
   ],
   "source": [
    "torch.pow(ques[0, 0], ques[0, 1]).item()"
   ]
  },
  {
   "cell_type": "code",
   "execution_count": 60,
   "metadata": {},
   "outputs": [
    {
     "data": {
      "text/plain": [
       "56.68699264526367"
      ]
     },
     "execution_count": 60,
     "metadata": {},
     "output_type": "execute_result"
    }
   ],
   "source": [
    "ALU(ques).item()"
   ]
  },
  {
   "cell_type": "code",
   "execution_count": 61,
   "metadata": {},
   "outputs": [
    {
     "data": {
      "text/plain": [
       "Parameter containing:\n",
       "tensor([[-11.0385]], requires_grad=True)"
      ]
     },
     "execution_count": 61,
     "metadata": {},
     "output_type": "execute_result"
    }
   ],
   "source": [
    "ALU.f"
   ]
  },
  {
   "cell_type": "code",
   "execution_count": 62,
   "metadata": {},
   "outputs": [
    {
     "data": {
      "text/plain": [
       "Parameter containing:\n",
       "tensor([[-9.9555]], requires_grad=True)"
      ]
     },
     "execution_count": 62,
     "metadata": {},
     "output_type": "execute_result"
    }
   ],
   "source": [
    "ALU.g"
   ]
  },
  {
   "cell_type": "code",
   "execution_count": 63,
   "metadata": {},
   "outputs": [
    {
     "data": {
      "text/plain": [
       "Parameter containing:\n",
       "tensor([[10.4489]], requires_grad=True)"
      ]
     },
     "execution_count": 63,
     "metadata": {},
     "output_type": "execute_result"
    }
   ],
   "source": [
    "ALU.h"
   ]
  },
  {
   "cell_type": "code",
   "execution_count": 64,
   "metadata": {},
   "outputs": [
    {
     "data": {
      "text/plain": [
       "tensor([[1.6070e-05]], grad_fn=<SigmoidBackward>)"
      ]
     },
     "execution_count": 64,
     "metadata": {},
     "output_type": "execute_result"
    }
   ],
   "source": [
    "torch.sigmoid(ALU.f)"
   ]
  },
  {
   "cell_type": "code",
   "execution_count": 65,
   "metadata": {},
   "outputs": [
    {
     "data": {
      "text/plain": [
       "tensor([[4.7463e-05]], grad_fn=<SigmoidBackward>)"
      ]
     },
     "execution_count": 65,
     "metadata": {},
     "output_type": "execute_result"
    }
   ],
   "source": [
    "torch.sigmoid(ALU.g)"
   ]
  },
  {
   "cell_type": "code",
   "execution_count": 66,
   "metadata": {},
   "outputs": [
    {
     "data": {
      "text/plain": [
       "tensor([[1.0000]], grad_fn=<SigmoidBackward>)"
      ]
     },
     "execution_count": 66,
     "metadata": {},
     "output_type": "execute_result"
    }
   ],
   "source": [
    "torch.sigmoid(ALU.h)"
   ]
  },
  {
   "cell_type": "code",
   "execution_count": 20,
   "metadata": {},
   "outputs": [
    {
     "data": {
      "text/plain": [
       "Parameter containing:\n",
       "tensor([[6.9907, 8.2802]], requires_grad=True)"
      ]
     },
     "execution_count": 20,
     "metadata": {},
     "output_type": "execute_result"
    }
   ],
   "source": [
    "ALU.nac.w_hat"
   ]
  },
  {
   "cell_type": "code",
   "execution_count": 21,
   "metadata": {},
   "outputs": [
    {
     "data": {
      "text/plain": [
       "Parameter containing:\n",
       "tensor([[11.8041, 13.8971]], requires_grad=True)"
      ]
     },
     "execution_count": 21,
     "metadata": {},
     "output_type": "execute_result"
    }
   ],
   "source": [
    "ALU.nac.m_hat"
   ]
  },
  {
   "cell_type": "code",
   "execution_count": 22,
   "metadata": {},
   "outputs": [
    {
     "data": {
      "text/plain": [
       "tensor([[1.0000, 1.0000]], grad_fn=<TanhBackward>)"
      ]
     },
     "execution_count": 22,
     "metadata": {},
     "output_type": "execute_result"
    }
   ],
   "source": [
    "torch.tanh(ALU.nac.w_hat)"
   ]
  },
  {
   "cell_type": "code",
   "execution_count": 23,
   "metadata": {},
   "outputs": [
    {
     "data": {
      "text/plain": [
       "tensor([[1.0000, 1.0000]], grad_fn=<SigmoidBackward>)"
      ]
     },
     "execution_count": 23,
     "metadata": {},
     "output_type": "execute_result"
    }
   ],
   "source": [
    "torch.sigmoid(ALU.nac.m_hat)"
   ]
  },
  {
   "cell_type": "code",
   "execution_count": 24,
   "metadata": {},
   "outputs": [
    {
     "data": {
      "text/plain": [
       "tensor([[1.0000, 1.0000]], grad_fn=<MulBackward0>)"
      ]
     },
     "execution_count": 24,
     "metadata": {},
     "output_type": "execute_result"
    }
   ],
   "source": [
    "torch.tanh(ALU.nac.w_hat) * torch.sigmoid(ALU.nac.m_hat)"
   ]
  },
  {
   "cell_type": "code",
   "execution_count": 25,
   "metadata": {},
   "outputs": [],
   "source": [
    "a = F.linear(ques, torch.tanh(ALU.nac.w_hat) * torch.sigmoid(ALU.nac.m_hat), None)"
   ]
  },
  {
   "cell_type": "code",
   "execution_count": 26,
   "metadata": {},
   "outputs": [
    {
     "data": {
      "text/plain": [
       "tensor([[6.7766]], grad_fn=<MmBackward>)"
      ]
     },
     "execution_count": 26,
     "metadata": {},
     "output_type": "execute_result"
    }
   ],
   "source": [
    "a"
   ]
  },
  {
   "cell_type": "code",
   "execution_count": 27,
   "metadata": {},
   "outputs": [
    {
     "data": {
      "text/plain": [
       "tensor([[3.5704, 3.2062]])"
      ]
     },
     "execution_count": 27,
     "metadata": {},
     "output_type": "execute_result"
    }
   ],
   "source": [
    "ques"
   ]
  },
  {
   "cell_type": "code",
   "execution_count": 29,
   "metadata": {},
   "outputs": [
    {
     "data": {
      "text/plain": [
       "Parameter containing:\n",
       "tensor([[1.3434]], requires_grad=True)"
      ]
     },
     "execution_count": 29,
     "metadata": {},
     "output_type": "execute_result"
    }
   ],
   "source": [
    "ALU.g"
   ]
  },
  {
   "cell_type": "code",
   "execution_count": 30,
   "metadata": {},
   "outputs": [
    {
     "data": {
      "text/plain": [
       "tensor([[0.7931]], grad_fn=<SigmoidBackward>)"
      ]
     },
     "execution_count": 30,
     "metadata": {},
     "output_type": "execute_result"
    }
   ],
   "source": [
    "torch.sigmoid(ALU.g)"
   ]
  },
  {
   "cell_type": "code",
   "execution_count": 31,
   "metadata": {},
   "outputs": [],
   "source": [
    "m = ALU.nac(torch.log(torch.abs(ques)))"
   ]
  },
  {
   "cell_type": "code",
   "execution_count": 32,
   "metadata": {},
   "outputs": [
    {
     "data": {
      "text/plain": [
       "tensor([[11.4474]], grad_fn=<ExpBackward>)"
      ]
     },
     "execution_count": 32,
     "metadata": {},
     "output_type": "execute_result"
    }
   ],
   "source": [
    "torch.exp(m)"
   ]
  },
  {
   "cell_type": "code",
   "execution_count": 33,
   "metadata": {},
   "outputs": [
    {
     "data": {
      "text/plain": [
       "Parameter containing:\n",
       "tensor([[0.3497]], requires_grad=True)"
      ]
     },
     "execution_count": 33,
     "metadata": {},
     "output_type": "execute_result"
    }
   ],
   "source": [
    "ALU.h"
   ]
  },
  {
   "cell_type": "code",
   "execution_count": 35,
   "metadata": {},
   "outputs": [
    {
     "data": {
      "text/plain": [
       "tensor([[6.8949, 7.3713]])"
      ]
     },
     "execution_count": 35,
     "metadata": {},
     "output_type": "execute_result"
    }
   ],
   "source": [
    "ques"
   ]
  },
  {
   "cell_type": "code",
   "execution_count": 36,
   "metadata": {},
   "outputs": [
    {
     "data": {
      "text/plain": [
       "tensor(50.8247)"
      ]
     },
     "execution_count": 36,
     "metadata": {},
     "output_type": "execute_result"
    }
   ],
   "source": [
    "ques[0, 0] * ques[0, 1]"
   ]
  },
  {
   "cell_type": "code",
   "execution_count": 58,
   "metadata": {},
   "outputs": [
    {
     "data": {
      "text/plain": [
       "tensor([[1.6727]], grad_fn=<MmBackward>)"
      ]
     },
     "execution_count": 58,
     "metadata": {},
     "output_type": "execute_result"
    }
   ],
   "source": [
    "ALU.nac(torch.log(torch.abs(ques)))"
   ]
  },
  {
   "cell_type": "code",
   "execution_count": 43,
   "metadata": {},
   "outputs": [
    {
     "ename": "TypeError",
     "evalue": "cannot assign 'int' as parameter 'f' (torch.nn.Parameter or None expected)",
     "output_type": "error",
     "traceback": [
      "\u001b[0;31m---------------------------------------------------------------------------\u001b[0m",
      "\u001b[0;31mTypeError\u001b[0m                                 Traceback (most recent call last)",
      "\u001b[0;32m<ipython-input-43-67ccbd5db514>\u001b[0m in \u001b[0;36m<module>\u001b[0;34m\u001b[0m\n\u001b[0;32m----> 1\u001b[0;31m \u001b[0mALU\u001b[0m\u001b[0;34m.\u001b[0m\u001b[0mf\u001b[0m \u001b[0;34m=\u001b[0m \u001b[0;36m0\u001b[0m\u001b[0;34m\u001b[0m\u001b[0;34m\u001b[0m\u001b[0m\n\u001b[0m\u001b[1;32m      2\u001b[0m \u001b[0mALU\u001b[0m\u001b[0;34m.\u001b[0m\u001b[0mg\u001b[0m \u001b[0;34m=\u001b[0m \u001b[0;36m0\u001b[0m\u001b[0;34m\u001b[0m\u001b[0;34m\u001b[0m\u001b[0m\n\u001b[1;32m      3\u001b[0m \u001b[0mALU\u001b[0m\u001b[0;34m.\u001b[0m\u001b[0mh\u001b[0m \u001b[0;34m=\u001b[0m \u001b[0;36m1\u001b[0m\u001b[0;34m\u001b[0m\u001b[0;34m\u001b[0m\u001b[0m\n",
      "\u001b[0;32m/usr/lib/python3.8/site-packages/torch/nn/modules/module.py\u001b[0m in \u001b[0;36m__setattr__\u001b[0;34m(self, name, value)\u001b[0m\n\u001b[1;32m    600\u001b[0m         \u001b[0;32melif\u001b[0m \u001b[0mparams\u001b[0m \u001b[0;32mis\u001b[0m \u001b[0;32mnot\u001b[0m \u001b[0;32mNone\u001b[0m \u001b[0;32mand\u001b[0m \u001b[0mname\u001b[0m \u001b[0;32min\u001b[0m \u001b[0mparams\u001b[0m\u001b[0;34m:\u001b[0m\u001b[0;34m\u001b[0m\u001b[0;34m\u001b[0m\u001b[0m\n\u001b[1;32m    601\u001b[0m             \u001b[0;32mif\u001b[0m \u001b[0mvalue\u001b[0m \u001b[0;32mis\u001b[0m \u001b[0;32mnot\u001b[0m \u001b[0;32mNone\u001b[0m\u001b[0;34m:\u001b[0m\u001b[0;34m\u001b[0m\u001b[0;34m\u001b[0m\u001b[0m\n\u001b[0;32m--> 602\u001b[0;31m                 raise TypeError(\"cannot assign '{}' as parameter '{}' \"\n\u001b[0m\u001b[1;32m    603\u001b[0m                                 \u001b[0;34m\"(torch.nn.Parameter or None expected)\"\u001b[0m\u001b[0;34m\u001b[0m\u001b[0;34m\u001b[0m\u001b[0m\n\u001b[1;32m    604\u001b[0m                                 .format(torch.typename(value), name))\n",
      "\u001b[0;31mTypeError\u001b[0m: cannot assign 'int' as parameter 'f' (torch.nn.Parameter or None expected)"
     ]
    }
   ],
   "source": [
    "ALU.f = 0\n",
    "ALU.g = 0\n",
    "ALU.h = 1"
   ]
  },
  {
   "cell_type": "code",
   "execution_count": 45,
   "metadata": {},
   "outputs": [
    {
     "ename": "TypeError",
     "evalue": "cannot assign 'int' as parameter 'f' (torch.nn.Parameter or None expected)",
     "output_type": "error",
     "traceback": [
      "\u001b[0;31m---------------------------------------------------------------------------\u001b[0m",
      "\u001b[0;31mTypeError\u001b[0m                                 Traceback (most recent call last)",
      "\u001b[0;32m<ipython-input-45-d9fb31be5b45>\u001b[0m in \u001b[0;36m<module>\u001b[0;34m\u001b[0m\n\u001b[0;32m----> 1\u001b[0;31m \u001b[0mALU\u001b[0m\u001b[0;34m.\u001b[0m\u001b[0mf\u001b[0m \u001b[0;34m=\u001b[0m \u001b[0;36m1000\u001b[0m\u001b[0;34m\u001b[0m\u001b[0;34m\u001b[0m\u001b[0m\n\u001b[0m",
      "\u001b[0;32m/usr/lib/python3.8/site-packages/torch/nn/modules/module.py\u001b[0m in \u001b[0;36m__setattr__\u001b[0;34m(self, name, value)\u001b[0m\n\u001b[1;32m    600\u001b[0m         \u001b[0;32melif\u001b[0m \u001b[0mparams\u001b[0m \u001b[0;32mis\u001b[0m \u001b[0;32mnot\u001b[0m \u001b[0;32mNone\u001b[0m \u001b[0;32mand\u001b[0m \u001b[0mname\u001b[0m \u001b[0;32min\u001b[0m \u001b[0mparams\u001b[0m\u001b[0;34m:\u001b[0m\u001b[0;34m\u001b[0m\u001b[0;34m\u001b[0m\u001b[0m\n\u001b[1;32m    601\u001b[0m             \u001b[0;32mif\u001b[0m \u001b[0mvalue\u001b[0m \u001b[0;32mis\u001b[0m \u001b[0;32mnot\u001b[0m \u001b[0;32mNone\u001b[0m\u001b[0;34m:\u001b[0m\u001b[0;34m\u001b[0m\u001b[0;34m\u001b[0m\u001b[0m\n\u001b[0;32m--> 602\u001b[0;31m                 raise TypeError(\"cannot assign '{}' as parameter '{}' \"\n\u001b[0m\u001b[1;32m    603\u001b[0m                                 \u001b[0;34m\"(torch.nn.Parameter or None expected)\"\u001b[0m\u001b[0;34m\u001b[0m\u001b[0;34m\u001b[0m\u001b[0m\n\u001b[1;32m    604\u001b[0m                                 .format(torch.typename(value), name))\n",
      "\u001b[0;31mTypeError\u001b[0m: cannot assign 'int' as parameter 'f' (torch.nn.Parameter or None expected)"
     ]
    }
   ],
   "source": [
    "ALU.f = 1000"
   ]
  },
  {
   "cell_type": "code",
   "execution_count": null,
   "metadata": {},
   "outputs": [],
   "source": []
  },
  {
   "cell_type": "code",
   "execution_count": null,
   "metadata": {},
   "outputs": [],
   "source": []
  },
  {
   "cell_type": "code",
   "execution_count": 159,
   "metadata": {},
   "outputs": [
    {
     "data": {
      "image/svg+xml": [
       "<?xml version=\"1.0\" encoding=\"UTF-8\" standalone=\"no\"?>\n",
       "<!DOCTYPE svg PUBLIC \"-//W3C//DTD SVG 1.1//EN\"\n",
       " \"http://www.w3.org/Graphics/SVG/1.1/DTD/svg11.dtd\">\n",
       "<!-- Generated by graphviz version 2.42.3 (0)\n",
       " -->\n",
       "<!-- Title: %3 Pages: 1 -->\n",
       "<svg width=\"262pt\" height=\"328pt\"\n",
       " viewBox=\"0.00 0.00 262.00 328.00\" xmlns=\"http://www.w3.org/2000/svg\" xmlns:xlink=\"http://www.w3.org/1999/xlink\">\n",
       "<g id=\"graph0\" class=\"graph\" transform=\"scale(1 1) rotate(0) translate(4 324)\">\n",
       "<title>%3</title>\n",
       "<polygon fill=\"white\" stroke=\"transparent\" points=\"-4,4 -4,-324 258,-324 258,4 -4,4\"/>\n",
       "<!-- 139655443106832 -->\n",
       "<g id=\"node1\" class=\"node\">\n",
       "<title>139655443106832</title>\n",
       "<polygon fill=\"#caff70\" stroke=\"black\" points=\"173,-21 71,-21 71,0 173,0 173,-21\"/>\n",
       "<text text-anchor=\"middle\" x=\"122\" y=\"-7.4\" font-family=\"Times,serif\" font-size=\"12.00\">ExpBackward</text>\n",
       "</g>\n",
       "<!-- 139655444550752 -->\n",
       "<g id=\"node2\" class=\"node\">\n",
       "<title>139655444550752</title>\n",
       "<polygon fill=\"lightgrey\" stroke=\"black\" points=\"173,-78 71,-78 71,-57 173,-57 173,-78\"/>\n",
       "<text text-anchor=\"middle\" x=\"122\" y=\"-64.4\" font-family=\"Times,serif\" font-size=\"12.00\">MmBackward</text>\n",
       "</g>\n",
       "<!-- 139655444550752&#45;&gt;139655443106832 -->\n",
       "<g id=\"edge1\" class=\"edge\">\n",
       "<title>139655444550752&#45;&gt;139655443106832</title>\n",
       "<path fill=\"none\" stroke=\"black\" d=\"M122,-56.92C122,-49.91 122,-40.14 122,-31.47\"/>\n",
       "<polygon fill=\"black\" stroke=\"black\" points=\"125.5,-31.34 122,-21.34 118.5,-31.34 125.5,-31.34\"/>\n",
       "</g>\n",
       "<!-- 139655444551712 -->\n",
       "<g id=\"node3\" class=\"node\">\n",
       "<title>139655444551712</title>\n",
       "<polygon fill=\"lightgrey\" stroke=\"black\" points=\"165.5,-135 78.5,-135 78.5,-114 165.5,-114 165.5,-135\"/>\n",
       "<text text-anchor=\"middle\" x=\"122\" y=\"-121.4\" font-family=\"Times,serif\" font-size=\"12.00\">TBackward</text>\n",
       "</g>\n",
       "<!-- 139655444551712&#45;&gt;139655444550752 -->\n",
       "<g id=\"edge2\" class=\"edge\">\n",
       "<title>139655444551712&#45;&gt;139655444550752</title>\n",
       "<path fill=\"none\" stroke=\"black\" d=\"M122,-113.92C122,-106.91 122,-97.14 122,-88.47\"/>\n",
       "<polygon fill=\"black\" stroke=\"black\" points=\"125.5,-88.34 122,-78.34 118.5,-88.34 125.5,-88.34\"/>\n",
       "</g>\n",
       "<!-- 139655444551088 -->\n",
       "<g id=\"node4\" class=\"node\">\n",
       "<title>139655444551088</title>\n",
       "<polygon fill=\"lightgrey\" stroke=\"black\" points=\"177,-192 67,-192 67,-171 177,-171 177,-192\"/>\n",
       "<text text-anchor=\"middle\" x=\"122\" y=\"-178.4\" font-family=\"Times,serif\" font-size=\"12.00\">MulBackward0</text>\n",
       "</g>\n",
       "<!-- 139655444551088&#45;&gt;139655444551712 -->\n",
       "<g id=\"edge3\" class=\"edge\">\n",
       "<title>139655444551088&#45;&gt;139655444551712</title>\n",
       "<path fill=\"none\" stroke=\"black\" d=\"M122,-170.92C122,-163.91 122,-154.14 122,-145.47\"/>\n",
       "<polygon fill=\"black\" stroke=\"black\" points=\"125.5,-145.34 122,-135.34 118.5,-145.34 125.5,-145.34\"/>\n",
       "</g>\n",
       "<!-- 139655444550704 -->\n",
       "<g id=\"node5\" class=\"node\">\n",
       "<title>139655444550704</title>\n",
       "<polygon fill=\"lightgrey\" stroke=\"black\" points=\"108,-249 0,-249 0,-228 108,-228 108,-249\"/>\n",
       "<text text-anchor=\"middle\" x=\"54\" y=\"-235.4\" font-family=\"Times,serif\" font-size=\"12.00\">TanhBackward</text>\n",
       "</g>\n",
       "<!-- 139655444550704&#45;&gt;139655444551088 -->\n",
       "<g id=\"edge4\" class=\"edge\">\n",
       "<title>139655444550704&#45;&gt;139655444551088</title>\n",
       "<path fill=\"none\" stroke=\"black\" d=\"M65.84,-227.92C75.77,-219.9 90.14,-208.27 101.87,-198.78\"/>\n",
       "<polygon fill=\"black\" stroke=\"black\" points=\"104.26,-201.35 109.83,-192.34 99.86,-195.91 104.26,-201.35\"/>\n",
       "</g>\n",
       "<!-- 139655444551376 -->\n",
       "<g id=\"node6\" class=\"node\">\n",
       "<title>139655444551376</title>\n",
       "<polygon fill=\"lightblue\" stroke=\"black\" points=\"81,-320 27,-320 27,-285 81,-285 81,-320\"/>\n",
       "<text text-anchor=\"middle\" x=\"54\" y=\"-292.4\" font-family=\"Times,serif\" font-size=\"12.00\"> (1, 2)</text>\n",
       "</g>\n",
       "<!-- 139655444551376&#45;&gt;139655444550704 -->\n",
       "<g id=\"edge5\" class=\"edge\">\n",
       "<title>139655444551376&#45;&gt;139655444550704</title>\n",
       "<path fill=\"none\" stroke=\"black\" d=\"M54,-284.89C54,-276.99 54,-267.5 54,-259.25\"/>\n",
       "<polygon fill=\"black\" stroke=\"black\" points=\"57.5,-259.02 54,-249.02 50.5,-259.02 57.5,-259.02\"/>\n",
       "</g>\n",
       "<!-- 139655444550512 -->\n",
       "<g id=\"node7\" class=\"node\">\n",
       "<title>139655444550512</title>\n",
       "<polygon fill=\"lightgrey\" stroke=\"black\" points=\"254,-249 126,-249 126,-228 254,-228 254,-249\"/>\n",
       "<text text-anchor=\"middle\" x=\"190\" y=\"-235.4\" font-family=\"Times,serif\" font-size=\"12.00\">SigmoidBackward</text>\n",
       "</g>\n",
       "<!-- 139655444550512&#45;&gt;139655444551088 -->\n",
       "<g id=\"edge6\" class=\"edge\">\n",
       "<title>139655444550512&#45;&gt;139655444551088</title>\n",
       "<path fill=\"none\" stroke=\"black\" d=\"M178.16,-227.92C168.23,-219.9 153.86,-208.27 142.13,-198.78\"/>\n",
       "<polygon fill=\"black\" stroke=\"black\" points=\"144.14,-195.91 134.17,-192.34 139.74,-201.35 144.14,-195.91\"/>\n",
       "</g>\n",
       "<!-- 139655444553680 -->\n",
       "<g id=\"node8\" class=\"node\">\n",
       "<title>139655444553680</title>\n",
       "<polygon fill=\"lightblue\" stroke=\"black\" points=\"217,-320 163,-320 163,-285 217,-285 217,-320\"/>\n",
       "<text text-anchor=\"middle\" x=\"190\" y=\"-292.4\" font-family=\"Times,serif\" font-size=\"12.00\"> (1, 2)</text>\n",
       "</g>\n",
       "<!-- 139655444553680&#45;&gt;139655444550512 -->\n",
       "<g id=\"edge7\" class=\"edge\">\n",
       "<title>139655444553680&#45;&gt;139655444550512</title>\n",
       "<path fill=\"none\" stroke=\"black\" d=\"M190,-284.89C190,-276.99 190,-267.5 190,-259.25\"/>\n",
       "<polygon fill=\"black\" stroke=\"black\" points=\"193.5,-259.02 190,-249.02 186.5,-259.02 193.5,-259.02\"/>\n",
       "</g>\n",
       "</g>\n",
       "</svg>\n"
      ],
      "text/plain": [
       "<graphviz.dot.Digraph at 0x7f041113cd90>"
      ]
     },
     "execution_count": 159,
     "metadata": {},
     "output_type": "execute_result"
    }
   ],
   "source": [
    "make_dot(ALU(ques))"
   ]
  },
  {
   "cell_type": "code",
   "execution_count": null,
   "metadata": {},
   "outputs": [],
   "source": []
  }
 ],
 "metadata": {
  "kernelspec": {
   "display_name": "Python 3",
   "language": "python",
   "name": "python3"
  },
  "language_info": {
   "codemirror_mode": {
    "name": "ipython",
    "version": 3
   },
   "file_extension": ".py",
   "mimetype": "text/x-python",
   "name": "python",
   "nbconvert_exporter": "python",
   "pygments_lexer": "ipython3",
   "version": "3.8.0"
  }
 },
 "nbformat": 4,
 "nbformat_minor": 4
}
