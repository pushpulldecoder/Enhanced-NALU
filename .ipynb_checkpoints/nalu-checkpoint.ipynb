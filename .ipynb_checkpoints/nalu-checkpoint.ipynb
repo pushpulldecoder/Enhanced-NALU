{
 "cells": [
  {
   "cell_type": "markdown",
   "metadata": {},
   "source": [
    "# Import Libraries"
   ]
  },
  {
   "cell_type": "code",
   "execution_count": 1,
   "metadata": {},
   "outputs": [],
   "source": [
    "import torch\n",
    "from matplotlib import pyplot as plt\n",
    "import numpy as np\n",
    "\n",
    "from torchviz import make_dot, make_dot_from_trace "
   ]
  },
  {
   "cell_type": "markdown",
   "metadata": {},
   "source": [
    "# Check avaibality of GPU"
   ]
  },
  {
   "cell_type": "code",
   "execution_count": 2,
   "metadata": {},
   "outputs": [
    {
     "name": "stdout",
     "output_type": "stream",
     "text": [
      "Using CUDA\n"
     ]
    }
   ],
   "source": [
    "DEVICE = \"cpu\"\n",
    "if torch.cuda.is_available():\n",
    "    DEVICE = \"cuda\"\n",
    "    print(\"Using CUDA\")"
   ]
  },
  {
   "cell_type": "markdown",
   "metadata": {},
   "source": [
    "# Neural Accumulator"
   ]
  },
  {
   "cell_type": "markdown",
   "metadata": {},
   "source": [
    "Neural Accumulator is used for addition/subtraction purpose\n",
    "\n",
    "Parameter<br>\n",
    ">    no_input  : 2<br>\n",
    ">    no_output : 1\n",
    "\n",
    "\n",
    ">    <b>w_hat.shape</b>  : (1, 2)<br>\n",
    ">    <b>m_hat.shape</b>  : (1, 2)\n",
    "\n",
    ">    <b>x.shape</b>      : (n, 2)<br>\n",
    ">    <b>W.shape</b>      : (1, 2)<br>\n",
    "\n",
    ">    <b>return</b>       : (X * W.T) + bias<br>\n",
    ">    <b>return.shape</b> : (n, 1)\n",
    "\n",
    "sigmoid(m_hat) will converge to (1, 1) to make dot product of matrices like summation of inputs\n",
    "\n",
    "tanh(w_hat) will either converge to (1, 1) or to (1, -1) depending if the operation is addition or subtraction respectily"
   ]
  },
  {
   "cell_type": "code",
   "execution_count": 3,
   "metadata": {},
   "outputs": [],
   "source": [
    "class NAC(torch.nn.Module):\n",
    "    \n",
    "    def __init__(self, parameter):\n",
    "        super().__init__()\n",
    "        self.no_inp = parameter.get(\"no_input\")\n",
    "        self.no_out = parameter.get(\"no_output\")\n",
    "        self.w_hat = torch.nn.Parameter(torch.Tensor(self.no_out, self.no_inp).to(DEVICE))\n",
    "        self.m_hat = torch.nn.Parameter(torch.Tensor(self.no_out, self.no_inp).to(DEVICE))\n",
    "        torch.nn.init.xavier_normal_(self.w_hat)\n",
    "        torch.nn.init.xavier_normal_(self.m_hat)\n",
    "        self.bias = None\n",
    "        \n",
    "    def forward(self, x):\n",
    "        W = torch.tanh(self.w_hat) * torch.sigmoid(self.m_hat)\n",
    "        return torch.nn.functional.linear(x, W, self.bias)"
   ]
  },
  {
   "cell_type": "markdown",
   "metadata": {},
   "source": [
    "# Multiplication Unit"
   ]
  },
  {
   "cell_type": "markdown",
   "metadata": {},
   "source": [
    "MU with the help of NAC performs higher order operations like multiplication and division\n",
    "\n",
    "F = sigmoid(f) will either converge to 0 or 1 giving the input of add/sub and mul/div respectively<br>\n",
    "It works as gate or barrier to perform operation of add/sub or mul/div\n",
    "\n",
    "a : Stores output of add/sub of given inputs<br>\n",
    "m : Stores output of mul/div of given inputs"
   ]
  },
  {
   "cell_type": "markdown",
   "metadata": {},
   "source": [
    "$m = p * q$<br>\n",
    "$m = e^{log(pq)}$<br>\n",
    "$m = e^{log(p) + log(q)}$<br>\n",
    "$m = e^{NAC(log(p), log(q))}$<br>"
   ]
  },
  {
   "cell_type": "code",
   "execution_count": 4,
   "metadata": {},
   "outputs": [],
   "source": [
    "class MU(torch.nn.Module):\n",
    "    def __init__(self, parameter):\n",
    "        super().__init__()\n",
    "        self.f = torch.nn.Parameter(torch.Tensor(1, 1).to(DEVICE))\n",
    "        torch.nn.init.xavier_normal_(self.f)\n",
    "        \n",
    "        self.nac = NAC(parameter)\n",
    "        self.eps = 1e-12\n",
    "\n",
    "    def forward(self, x):\n",
    "        F = torch.sigmoid(self.f)\n",
    "        \n",
    "        a = self.nac(x)\n",
    "        \n",
    "        m = self.nac(torch.log(torch.abs(x) + self.eps))\n",
    "        m = torch.exp(m)\n",
    "        \n",
    "        y = (F*a) + ((1-F)*m)\n",
    "        return y"
   ]
  },
  {
   "cell_type": "markdown",
   "metadata": {},
   "source": [
    "# Power Unit"
   ]
  },
  {
   "cell_type": "markdown",
   "metadata": {},
   "source": [
    "PU performs even higher order operations like power(incuding roots)<br>"
   ]
  },
  {
   "cell_type": "markdown",
   "metadata": {},
   "source": [
    "$p = a^b$<br>\n",
    "$p = e^{log(a^b)}$<br>\n",
    "$p = e^{b*log(a)}$<br>\n",
    "$p = e^{MLU(b, log(a))}$<br>"
   ]
  },
  {
   "cell_type": "code",
   "execution_count": 5,
   "metadata": {},
   "outputs": [],
   "source": [
    "class PU(torch.nn.Module):\n",
    "    def __init__(self, parameter):\n",
    "        super().__init__()\n",
    "        \n",
    "        self.mu = MU(parameter)\n",
    "        self.eps = 1e-12\n",
    "        \n",
    "    def forward(self, x):\n",
    "        \n",
    "        p = self.mu(torch.stack((torch.log(torch.abs(x[:, 0])), x[:, 1])).T)\n",
    "        p = torch.exp(p)\n",
    "        \n",
    "        return p"
   ]
  },
  {
   "cell_type": "code",
   "execution_count": 6,
   "metadata": {},
   "outputs": [],
   "source": [
    "def data_generator(min_val, max_val, num_obs, op):\n",
    "    data = np.random.uniform(min_val, max_val, size=(num_obs, 2))\n",
    "    if op == '+':\n",
    "        targets = data[:, 0] + data[:, 1]\n",
    "    elif op == '-':\n",
    "        targets = data[:, 0] - data[:, 1]\n",
    "    elif op == '*':\n",
    "        targets = data[:, 0] * data[:, 1]\n",
    "    elif op == '/':\n",
    "        targets = data[:, 0] / data[:, 1]\n",
    "    elif op == 'p':\n",
    "        targets = np.power(data[:, 0], data[:, 1])\n",
    "    return data, targets"
   ]
  },
  {
   "cell_type": "code",
   "execution_count": 7,
   "metadata": {},
   "outputs": [],
   "source": [
    "def get_batches(x, y, data_size, batch_size):\n",
    "    for id_ in range(0, data_size, batch_size):\n",
    "        x_batch = x[id_:id_+batch_size]\n",
    "        y_batch = y[id_:id_+batch_size]\n",
    "        \n",
    "        x_batch = torch.from_numpy(x_batch).float()\n",
    "        y_batch = torch.from_numpy(y_batch).float().view(-1, 1)\n",
    "        \n",
    "        yield x_batch.to(DEVICE), y_batch.to(DEVICE)\n",
    "\n",
    "def train(train_parameter):\n",
    "    \n",
    "    model      = train_parameter.get(\"model\")\n",
    "    no_epoch   = train_parameter.get(\"no_epoch\")\n",
    "    data_size  = train_parameter.get(\"data_size\")\n",
    "    min_val    = train_parameter.get(\"min_val\")\n",
    "    max_val    = train_parameter.get(\"max_val\")\n",
    "    no_epoch   = train_parameter.get(\"no_epoch\")\n",
    "    batch_size = train_parameter.get(\"batch_size\")\n",
    "    operation  = train_parameter.get(\"operation\")\n",
    "    loss       = train_parameter.get(\"loss\")\n",
    "    \n",
    "    x_train, y_train = data_generator(min_val, max_val, data_size, operation)\n",
    "    \n",
    "    optimizer = torch.optim.Adam(model.parameters())\n",
    "    \n",
    "    train_error = []\n",
    "    \n",
    "    step = 0\n",
    "    for epoch in range(no_epoch):\n",
    "        model.train()\n",
    "        \n",
    "        for x, y in get_batches(x_train, y_train, data_size, batch_size):\n",
    "            step+=1\n",
    "            \n",
    "            output = model(x)\n",
    "            error = loss(output, y)\n",
    "            optimizer.zero_grad()\n",
    "            error.backward()\n",
    "            optimizer.step()\n",
    "            \n",
    "            train_error.append(error.item())\n",
    "\n",
    "            \n",
    "            if step%1000==0:\n",
    "                print(error.item())\n",
    "            \n",
    "        \n",
    "    return model"
   ]
  },
  {
   "cell_type": "code",
   "execution_count": null,
   "metadata": {},
   "outputs": [],
   "source": []
  },
  {
   "cell_type": "code",
   "execution_count": 8,
   "metadata": {},
   "outputs": [],
   "source": [
    "model_parameter  = {\n",
    "                    \"no_input\":2,\n",
    "                    \"no_output\":1\n",
    "                    }"
   ]
  },
  {
   "cell_type": "code",
   "execution_count": 33,
   "metadata": {},
   "outputs": [],
   "source": [
    "ALU = PU(model_parameter)"
   ]
  },
  {
   "cell_type": "code",
   "execution_count": 34,
   "metadata": {},
   "outputs": [],
   "source": [
    "model      = ALU\n",
    "min_val    = 2\n",
    "max_val    = 3\n",
    "data_size  = 10000\n",
    "batch_size = 13\n",
    "no_epoch   = 71\n",
    "operation  = \"p\"\n",
    "loss       = torch.nn.SmoothL1Loss()\n",
    "\n",
    "\n",
    "train_parameter = {\n",
    "                    \"model\":model,\n",
    "                    \"min_val\": min_val,\n",
    "                    \"max_val\": max_val,\n",
    "                    \"no_input\": data_size,\n",
    "                    \"no_epoch\": no_epoch,\n",
    "                    \"data_size\": data_size,\n",
    "                    \"batch_size\": batch_size,\n",
    "                    \"operation\":operation,\n",
    "                    \"loss\": loss\n",
    "                  }"
   ]
  },
  {
   "cell_type": "code",
   "execution_count": 35,
   "metadata": {},
   "outputs": [
    {
     "name": "stdout",
     "output_type": "stream",
     "text": [
      "1.187068223953247\n",
      "1.2463476657867432\n",
      "1.7405319213867188\n",
      "0.9910622835159302\n",
      "1.4081265926361084\n",
      "1.0764638185501099\n",
      "0.6825138926506042\n",
      "0.3593354821205139\n",
      "0.35898181796073914\n",
      "0.19682465493679047\n",
      "0.09266261756420135\n",
      "0.07204608619213104\n",
      "0.08676353096961975\n",
      "0.030973663553595543\n",
      "0.05148887634277344\n",
      "0.01955462619662285\n",
      "0.02568877674639225\n",
      "0.009117796085774899\n",
      "0.02353121154010296\n",
      "0.0035887432750314474\n",
      "0.005231637042015791\n",
      "0.0016685208538547158\n",
      "0.0016725753666833043\n",
      "0.0007086331024765968\n",
      "0.0023715170100331306\n",
      "0.00032611668575555086\n",
      "0.0002076323435176164\n",
      "0.00018254664610140026\n",
      "7.718727283645421e-05\n",
      "9.526471694698557e-05\n",
      "5.876851355424151e-05\n",
      "9.894771937979385e-05\n",
      "5.057470116298646e-05\n",
      "1.943852475960739e-05\n",
      "1.8319147784495726e-05\n",
      "2.076187593047507e-05\n",
      "5.051911102782469e-06\n",
      "2.7471346584206913e-06\n",
      "3.94141625292832e-06\n",
      "2.8818747068726225e-06\n",
      "3.6399339933268493e-06\n",
      "1.4521388038701843e-06\n",
      "7.407122666336363e-07\n",
      "1.415128963344614e-06\n",
      "9.886821317195427e-07\n",
      "2.2167985491705622e-07\n",
      "1.216392604419525e-07\n",
      "1.0564304631088817e-07\n",
      "1.5809631292995618e-07\n",
      "8.262747286380545e-08\n",
      "2.3665515769266676e-08\n",
      "1.932663096226861e-08\n",
      "1.7203538149601627e-08\n",
      "1.4445102003435295e-08\n"
     ]
    }
   ],
   "source": [
    "error = train(train_parameter)"
   ]
  },
  {
   "cell_type": "code",
   "execution_count": null,
   "metadata": {},
   "outputs": [],
   "source": [
    "torch.tanh(ALU.nac.w_hat)"
   ]
  },
  {
   "cell_type": "code",
   "execution_count": 25,
   "metadata": {},
   "outputs": [
    {
     "name": "stdout",
     "output_type": "stream",
     "text": [
      "14.832406997680664\n",
      "0.9999996423721313\n"
     ]
    }
   ],
   "source": [
    "print(ALU.g.item())\n",
    "print(torch.sigmoid(ALU.g).item())"
   ]
  },
  {
   "cell_type": "code",
   "execution_count": 72,
   "metadata": {},
   "outputs": [
    {
     "data": {
      "text/plain": [
       "tensor([[0.9992, 0.9993]], device='cuda:0', grad_fn=<SigmoidBackward>)"
      ]
     },
     "execution_count": 72,
     "metadata": {},
     "output_type": "execute_result"
    }
   ],
   "source": [
    "torch.sigmoid(ALU.nac.m_hat)"
   ]
  },
  {
   "cell_type": "code",
   "execution_count": 30,
   "metadata": {},
   "outputs": [],
   "source": [
    "ques = (torch.rand([1, 2]).to(DEVICE))"
   ]
  },
  {
   "cell_type": "code",
   "execution_count": 31,
   "metadata": {},
   "outputs": [
    {
     "data": {
      "text/plain": [
       "torch.Size([1, 2])"
      ]
     },
     "execution_count": 31,
     "metadata": {},
     "output_type": "execute_result"
    }
   ],
   "source": [
    "ques.shape"
   ]
  },
  {
   "cell_type": "code",
   "execution_count": 32,
   "metadata": {},
   "outputs": [
    {
     "data": {
      "text/plain": [
       "tensor([[0.3150, 0.2867]])"
      ]
     },
     "execution_count": 32,
     "metadata": {},
     "output_type": "execute_result"
    }
   ],
   "source": [
    "ques"
   ]
  },
  {
   "cell_type": "code",
   "execution_count": 33,
   "metadata": {},
   "outputs": [
    {
     "data": {
      "text/plain": [
       "tensor(0.6017)"
      ]
     },
     "execution_count": 33,
     "metadata": {},
     "output_type": "execute_result"
    }
   ],
   "source": [
    "ques.sum()"
   ]
  },
  {
   "cell_type": "code",
   "execution_count": 34,
   "metadata": {},
   "outputs": [
    {
     "data": {
      "text/plain": [
       "nan"
      ]
     },
     "execution_count": 34,
     "metadata": {},
     "output_type": "execute_result"
    }
   ],
   "source": [
    "ALU(ques).item()"
   ]
  },
  {
   "cell_type": "code",
   "execution_count": 62,
   "metadata": {},
   "outputs": [
    {
     "data": {
      "text/plain": [
       "859060.4375"
      ]
     },
     "execution_count": 62,
     "metadata": {},
     "output_type": "execute_result"
    }
   ],
   "source": [
    "torch.pow(ques[0, 0], ques[0, 1]).item()"
   ]
  },
  {
   "cell_type": "code",
   "execution_count": 22,
   "metadata": {},
   "outputs": [
    {
     "data": {
      "text/plain": [
       "nan"
      ]
     },
     "execution_count": 22,
     "metadata": {},
     "output_type": "execute_result"
    }
   ],
   "source": [
    "ALU(ques).item()"
   ]
  },
  {
   "cell_type": "code",
   "execution_count": null,
   "metadata": {},
   "outputs": [],
   "source": []
  },
  {
   "cell_type": "code",
   "execution_count": 64,
   "metadata": {},
   "outputs": [
    {
     "data": {
      "image/svg+xml": [
       "<?xml version=\"1.0\" encoding=\"UTF-8\" standalone=\"no\"?>\n",
       "<!DOCTYPE svg PUBLIC \"-//W3C//DTD SVG 1.1//EN\"\n",
       " \"http://www.w3.org/Graphics/SVG/1.1/DTD/svg11.dtd\">\n",
       "<!-- Generated by graphviz version 2.42.3 (0)\n",
       " -->\n",
       "<!-- Title: %3 Pages: 1 -->\n",
       "<svg width=\"832pt\" height=\"541pt\"\n",
       " viewBox=\"0.00 0.00 832.00 541.00\" xmlns=\"http://www.w3.org/2000/svg\" xmlns:xlink=\"http://www.w3.org/1999/xlink\">\n",
       "<g id=\"graph0\" class=\"graph\" transform=\"scale(1 1) rotate(0) translate(4 537)\">\n",
       "<title>%3</title>\n",
       "<polygon fill=\"white\" stroke=\"transparent\" points=\"-4,4 -4,-537 828,-537 828,4 -4,4\"/>\n",
       "<!-- 140254679153392 -->\n",
       "<g id=\"node1\" class=\"node\">\n",
       "<title>140254679153392</title>\n",
       "<polygon fill=\"#caff70\" stroke=\"black\" points=\"608,-21 498,-21 498,0 608,0 608,-21\"/>\n",
       "<text text-anchor=\"middle\" x=\"553\" y=\"-7.4\" font-family=\"Times,serif\" font-size=\"12.00\">AddBackward0</text>\n",
       "</g>\n",
       "<!-- 140254679153152 -->\n",
       "<g id=\"node2\" class=\"node\">\n",
       "<title>140254679153152</title>\n",
       "<polygon fill=\"lightgrey\" stroke=\"black\" points=\"500,-78 390,-78 390,-57 500,-57 500,-78\"/>\n",
       "<text text-anchor=\"middle\" x=\"445\" y=\"-64.4\" font-family=\"Times,serif\" font-size=\"12.00\">AddBackward0</text>\n",
       "</g>\n",
       "<!-- 140254679153152&#45;&gt;140254679153392 -->\n",
       "<g id=\"edge1\" class=\"edge\">\n",
       "<title>140254679153152&#45;&gt;140254679153392</title>\n",
       "<path fill=\"none\" stroke=\"black\" d=\"M463.81,-56.92C480.74,-48.3 505.85,-35.51 525.11,-25.7\"/>\n",
       "<polygon fill=\"black\" stroke=\"black\" points=\"526.72,-28.81 534.04,-21.16 523.54,-22.57 526.72,-28.81\"/>\n",
       "</g>\n",
       "<!-- 140254679153776 -->\n",
       "<g id=\"node3\" class=\"node\">\n",
       "<title>140254679153776</title>\n",
       "<polygon fill=\"lightgrey\" stroke=\"black\" points=\"309,-199 199,-199 199,-178 309,-178 309,-199\"/>\n",
       "<text text-anchor=\"middle\" x=\"254\" y=\"-185.4\" font-family=\"Times,serif\" font-size=\"12.00\">MulBackward0</text>\n",
       "</g>\n",
       "<!-- 140254679153776&#45;&gt;140254679153152 -->\n",
       "<g id=\"edge2\" class=\"edge\">\n",
       "<title>140254679153776&#45;&gt;140254679153152</title>\n",
       "<path fill=\"none\" stroke=\"black\" d=\"M269.31,-177.96C302.49,-157.29 381.24,-108.23 421.06,-83.41\"/>\n",
       "<polygon fill=\"black\" stroke=\"black\" points=\"422.98,-86.34 429.62,-78.08 419.28,-80.4 422.98,-86.34\"/>\n",
       "</g>\n",
       "<!-- 140254679152000 -->\n",
       "<g id=\"node4\" class=\"node\">\n",
       "<title>140254679152000</title>\n",
       "<polygon fill=\"lightgrey\" stroke=\"black\" points=\"332,-270 204,-270 204,-249 332,-249 332,-270\"/>\n",
       "<text text-anchor=\"middle\" x=\"268\" y=\"-256.4\" font-family=\"Times,serif\" font-size=\"12.00\">SigmoidBackward</text>\n",
       "</g>\n",
       "<!-- 140254679152000&#45;&gt;140254679153776 -->\n",
       "<g id=\"edge3\" class=\"edge\">\n",
       "<title>140254679152000&#45;&gt;140254679153776</title>\n",
       "<path fill=\"none\" stroke=\"black\" d=\"M266.05,-248.91C263.96,-238.61 260.59,-221.97 257.94,-208.92\"/>\n",
       "<polygon fill=\"black\" stroke=\"black\" points=\"261.35,-208.12 255.93,-199.01 254.49,-209.51 261.35,-208.12\"/>\n",
       "</g>\n",
       "<!-- 140254679154016 -->\n",
       "<g id=\"node5\" class=\"node\">\n",
       "<title>140254679154016</title>\n",
       "<polygon fill=\"lightblue\" stroke=\"black\" points=\"295,-348 241,-348 241,-313 295,-313 295,-348\"/>\n",
       "<text text-anchor=\"middle\" x=\"268\" y=\"-320.4\" font-family=\"Times,serif\" font-size=\"12.00\"> (1, 1)</text>\n",
       "</g>\n",
       "<!-- 140254679154016&#45;&gt;140254679152000 -->\n",
       "<g id=\"edge4\" class=\"edge\">\n",
       "<title>140254679154016&#45;&gt;140254679152000</title>\n",
       "<path fill=\"none\" stroke=\"black\" d=\"M268,-312.8C268,-302.96 268,-290.45 268,-280.14\"/>\n",
       "<polygon fill=\"black\" stroke=\"black\" points=\"271.5,-280.04 268,-270.04 264.5,-280.04 271.5,-280.04\"/>\n",
       "</g>\n",
       "<!-- 140254679154304 -->\n",
       "<g id=\"node6\" class=\"node\">\n",
       "<title>140254679154304</title>\n",
       "<polygon fill=\"lightgrey\" stroke=\"black\" points=\"186,-270 84,-270 84,-249 186,-249 186,-270\"/>\n",
       "<text text-anchor=\"middle\" x=\"135\" y=\"-256.4\" font-family=\"Times,serif\" font-size=\"12.00\">MmBackward</text>\n",
       "</g>\n",
       "<!-- 140254679154304&#45;&gt;140254679153776 -->\n",
       "<g id=\"edge5\" class=\"edge\">\n",
       "<title>140254679154304&#45;&gt;140254679153776</title>\n",
       "<path fill=\"none\" stroke=\"black\" d=\"M151.55,-248.91C171.53,-237.32 205.35,-217.71 228.63,-204.21\"/>\n",
       "<polygon fill=\"black\" stroke=\"black\" points=\"230.7,-207.06 237.59,-199.01 227.19,-201 230.7,-207.06\"/>\n",
       "</g>\n",
       "<!-- 140254679154208 -->\n",
       "<g id=\"node7\" class=\"node\">\n",
       "<title>140254679154208</title>\n",
       "<polygon fill=\"lightgrey\" stroke=\"black\" points=\"178.5,-341 91.5,-341 91.5,-320 178.5,-320 178.5,-341\"/>\n",
       "<text text-anchor=\"middle\" x=\"135\" y=\"-327.4\" font-family=\"Times,serif\" font-size=\"12.00\">TBackward</text>\n",
       "</g>\n",
       "<!-- 140254679154208&#45;&gt;140254679154304 -->\n",
       "<g id=\"edge6\" class=\"edge\">\n",
       "<title>140254679154208&#45;&gt;140254679154304</title>\n",
       "<path fill=\"none\" stroke=\"black\" d=\"M135,-319.91C135,-309.71 135,-293.3 135,-280.31\"/>\n",
       "<polygon fill=\"black\" stroke=\"black\" points=\"138.5,-280.01 135,-270.01 131.5,-280.01 138.5,-280.01\"/>\n",
       "</g>\n",
       "<!-- 140254679153536 -->\n",
       "<g id=\"node8\" class=\"node\">\n",
       "<title>140254679153536</title>\n",
       "<polygon fill=\"lightgrey\" stroke=\"black\" points=\"190,-405 80,-405 80,-384 190,-384 190,-405\"/>\n",
       "<text text-anchor=\"middle\" x=\"135\" y=\"-391.4\" font-family=\"Times,serif\" font-size=\"12.00\">MulBackward0</text>\n",
       "</g>\n",
       "<!-- 140254679153536&#45;&gt;140254679154208 -->\n",
       "<g id=\"edge7\" class=\"edge\">\n",
       "<title>140254679153536&#45;&gt;140254679154208</title>\n",
       "<path fill=\"none\" stroke=\"black\" d=\"M135,-383.81C135,-375.22 135,-362.39 135,-351.59\"/>\n",
       "<polygon fill=\"black\" stroke=\"black\" points=\"138.5,-351.32 135,-341.32 131.5,-351.32 138.5,-351.32\"/>\n",
       "</g>\n",
       "<!-- 140254679152240 -->\n",
       "<g id=\"node9\" class=\"node\">\n",
       "<title>140254679152240</title>\n",
       "<polygon fill=\"lightgrey\" stroke=\"black\" points=\"108,-462 0,-462 0,-441 108,-441 108,-462\"/>\n",
       "<text text-anchor=\"middle\" x=\"54\" y=\"-448.4\" font-family=\"Times,serif\" font-size=\"12.00\">TanhBackward</text>\n",
       "</g>\n",
       "<!-- 140254679152240&#45;&gt;140254679153536 -->\n",
       "<g id=\"edge8\" class=\"edge\">\n",
       "<title>140254679152240&#45;&gt;140254679153536</title>\n",
       "<path fill=\"none\" stroke=\"black\" d=\"M68.11,-440.92C80.35,-432.61 98.28,-420.44 112.49,-410.78\"/>\n",
       "<polygon fill=\"black\" stroke=\"black\" points=\"114.47,-413.67 120.78,-405.16 110.54,-407.88 114.47,-413.67\"/>\n",
       "</g>\n",
       "<!-- 140254679152576 -->\n",
       "<g id=\"node10\" class=\"node\">\n",
       "<title>140254679152576</title>\n",
       "<polygon fill=\"lightblue\" stroke=\"black\" points=\"207,-533 153,-533 153,-498 207,-498 207,-533\"/>\n",
       "<text text-anchor=\"middle\" x=\"180\" y=\"-505.4\" font-family=\"Times,serif\" font-size=\"12.00\"> (1, 2)</text>\n",
       "</g>\n",
       "<!-- 140254679152576&#45;&gt;140254679152240 -->\n",
       "<g id=\"edge9\" class=\"edge\">\n",
       "<title>140254679152576&#45;&gt;140254679152240</title>\n",
       "<path fill=\"none\" stroke=\"black\" d=\"M152.97,-501.2C132.28,-491.02 103.8,-477 82.7,-466.62\"/>\n",
       "<polygon fill=\"black\" stroke=\"black\" points=\"84.1,-463.41 73.58,-462.13 81.01,-469.69 84.1,-463.41\"/>\n",
       "</g>\n",
       "<!-- 140254679150800 -->\n",
       "<g id=\"node20\" class=\"node\">\n",
       "<title>140254679150800</title>\n",
       "<polygon fill=\"lightgrey\" stroke=\"black\" points=\"234,-462 126,-462 126,-441 234,-441 234,-462\"/>\n",
       "<text text-anchor=\"middle\" x=\"180\" y=\"-448.4\" font-family=\"Times,serif\" font-size=\"12.00\">TanhBackward</text>\n",
       "</g>\n",
       "<!-- 140254679152576&#45;&gt;140254679150800 -->\n",
       "<g id=\"edge20\" class=\"edge\">\n",
       "<title>140254679152576&#45;&gt;140254679150800</title>\n",
       "<path fill=\"none\" stroke=\"black\" d=\"M180,-497.89C180,-489.99 180,-480.5 180,-472.25\"/>\n",
       "<polygon fill=\"black\" stroke=\"black\" points=\"183.5,-472.02 180,-462.02 176.5,-472.02 183.5,-472.02\"/>\n",
       "</g>\n",
       "<!-- 140254679152720 -->\n",
       "<g id=\"node30\" class=\"node\">\n",
       "<title>140254679152720</title>\n",
       "<polygon fill=\"lightgrey\" stroke=\"black\" points=\"506,-462 398,-462 398,-441 506,-441 506,-462\"/>\n",
       "<text text-anchor=\"middle\" x=\"452\" y=\"-448.4\" font-family=\"Times,serif\" font-size=\"12.00\">TanhBackward</text>\n",
       "</g>\n",
       "<!-- 140254679152576&#45;&gt;140254679152720 -->\n",
       "<g id=\"edge32\" class=\"edge\">\n",
       "<title>140254679152576&#45;&gt;140254679152720</title>\n",
       "<path fill=\"none\" stroke=\"black\" d=\"M207.07,-508.33C251.95,-498.1 342.48,-477.46 400.02,-464.35\"/>\n",
       "<polygon fill=\"black\" stroke=\"black\" points=\"401.04,-467.71 410.01,-462.07 399.48,-460.88 401.04,-467.71\"/>\n",
       "</g>\n",
       "<!-- 140254679150704 -->\n",
       "<g id=\"node11\" class=\"node\">\n",
       "<title>140254679150704</title>\n",
       "<polygon fill=\"lightgrey\" stroke=\"black\" points=\"380,-462 252,-462 252,-441 380,-441 380,-462\"/>\n",
       "<text text-anchor=\"middle\" x=\"316\" y=\"-448.4\" font-family=\"Times,serif\" font-size=\"12.00\">SigmoidBackward</text>\n",
       "</g>\n",
       "<!-- 140254679150704&#45;&gt;140254679153536 -->\n",
       "<g id=\"edge10\" class=\"edge\">\n",
       "<title>140254679150704&#45;&gt;140254679153536</title>\n",
       "<path fill=\"none\" stroke=\"black\" d=\"M284.47,-440.92C254.46,-431.8 209.11,-418.02 176.24,-408.03\"/>\n",
       "<polygon fill=\"black\" stroke=\"black\" points=\"177.06,-404.62 166.47,-405.06 175.02,-411.32 177.06,-404.62\"/>\n",
       "</g>\n",
       "<!-- 140254679151328 -->\n",
       "<g id=\"node12\" class=\"node\">\n",
       "<title>140254679151328</title>\n",
       "<polygon fill=\"lightblue\" stroke=\"black\" points=\"615,-533 561,-533 561,-498 615,-498 615,-533\"/>\n",
       "<text text-anchor=\"middle\" x=\"588\" y=\"-505.4\" font-family=\"Times,serif\" font-size=\"12.00\"> (1, 2)</text>\n",
       "</g>\n",
       "<!-- 140254679151328&#45;&gt;140254679150704 -->\n",
       "<g id=\"edge11\" class=\"edge\">\n",
       "<title>140254679151328&#45;&gt;140254679150704</title>\n",
       "<path fill=\"none\" stroke=\"black\" d=\"M560.93,-508.33C516.05,-498.1 425.52,-477.46 367.98,-464.35\"/>\n",
       "<polygon fill=\"black\" stroke=\"black\" points=\"368.52,-460.88 357.99,-462.07 366.96,-467.71 368.52,-460.88\"/>\n",
       "</g>\n",
       "<!-- 140254679151952 -->\n",
       "<g id=\"node21\" class=\"node\">\n",
       "<title>140254679151952</title>\n",
       "<polygon fill=\"lightgrey\" stroke=\"black\" points=\"652,-462 524,-462 524,-441 652,-441 652,-462\"/>\n",
       "<text text-anchor=\"middle\" x=\"588\" y=\"-448.4\" font-family=\"Times,serif\" font-size=\"12.00\">SigmoidBackward</text>\n",
       "</g>\n",
       "<!-- 140254679151328&#45;&gt;140254679151952 -->\n",
       "<g id=\"edge22\" class=\"edge\">\n",
       "<title>140254679151328&#45;&gt;140254679151952</title>\n",
       "<path fill=\"none\" stroke=\"black\" d=\"M588,-497.89C588,-489.99 588,-480.5 588,-472.25\"/>\n",
       "<polygon fill=\"black\" stroke=\"black\" points=\"591.5,-472.02 588,-462.02 584.5,-472.02 591.5,-472.02\"/>\n",
       "</g>\n",
       "<!-- 140254679153056 -->\n",
       "<g id=\"node31\" class=\"node\">\n",
       "<title>140254679153056</title>\n",
       "<polygon fill=\"lightgrey\" stroke=\"black\" points=\"798,-462 670,-462 670,-441 798,-441 798,-462\"/>\n",
       "<text text-anchor=\"middle\" x=\"734\" y=\"-448.4\" font-family=\"Times,serif\" font-size=\"12.00\">SigmoidBackward</text>\n",
       "</g>\n",
       "<!-- 140254679151328&#45;&gt;140254679153056 -->\n",
       "<g id=\"edge34\" class=\"edge\">\n",
       "<title>140254679151328&#45;&gt;140254679153056</title>\n",
       "<path fill=\"none\" stroke=\"black\" d=\"M615.12,-502.98C639.69,-492.55 675.92,-477.16 701.92,-466.12\"/>\n",
       "<polygon fill=\"black\" stroke=\"black\" points=\"703.5,-469.25 711.34,-462.12 700.77,-462.81 703.5,-469.25\"/>\n",
       "</g>\n",
       "<!-- 140254679152624 -->\n",
       "<g id=\"node13\" class=\"node\">\n",
       "<title>140254679152624</title>\n",
       "<polygon fill=\"lightgrey\" stroke=\"black\" points=\"500,-135 390,-135 390,-114 500,-114 500,-135\"/>\n",
       "<text text-anchor=\"middle\" x=\"445\" y=\"-121.4\" font-family=\"Times,serif\" font-size=\"12.00\">MulBackward0</text>\n",
       "</g>\n",
       "<!-- 140254679152624&#45;&gt;140254679153152 -->\n",
       "<g id=\"edge12\" class=\"edge\">\n",
       "<title>140254679152624&#45;&gt;140254679153152</title>\n",
       "<path fill=\"none\" stroke=\"black\" d=\"M445,-113.92C445,-106.91 445,-97.14 445,-88.47\"/>\n",
       "<polygon fill=\"black\" stroke=\"black\" points=\"448.5,-88.34 445,-78.34 441.5,-88.34 448.5,-88.34\"/>\n",
       "</g>\n",
       "<!-- 140254679152432 -->\n",
       "<g id=\"node14\" class=\"node\">\n",
       "<title>140254679152432</title>\n",
       "<polygon fill=\"lightgrey\" stroke=\"black\" points=\"455,-199 327,-199 327,-178 455,-178 455,-199\"/>\n",
       "<text text-anchor=\"middle\" x=\"391\" y=\"-185.4\" font-family=\"Times,serif\" font-size=\"12.00\">SigmoidBackward</text>\n",
       "</g>\n",
       "<!-- 140254679152432&#45;&gt;140254679152624 -->\n",
       "<g id=\"edge13\" class=\"edge\">\n",
       "<title>140254679152432&#45;&gt;140254679152624</title>\n",
       "<path fill=\"none\" stroke=\"black\" d=\"M399.44,-177.81C407.55,-168.49 420.01,-154.2 429.84,-142.9\"/>\n",
       "<polygon fill=\"black\" stroke=\"black\" points=\"432.51,-145.16 436.44,-135.32 427.24,-140.57 432.51,-145.16\"/>\n",
       "</g>\n",
       "<!-- 140254679153248 -->\n",
       "<g id=\"node15\" class=\"node\">\n",
       "<title>140254679153248</title>\n",
       "<polygon fill=\"lightblue\" stroke=\"black\" points=\"418,-277 364,-277 364,-242 418,-242 418,-277\"/>\n",
       "<text text-anchor=\"middle\" x=\"391\" y=\"-249.4\" font-family=\"Times,serif\" font-size=\"12.00\"> (1, 1)</text>\n",
       "</g>\n",
       "<!-- 140254679153248&#45;&gt;140254679152432 -->\n",
       "<g id=\"edge14\" class=\"edge\">\n",
       "<title>140254679153248&#45;&gt;140254679152432</title>\n",
       "<path fill=\"none\" stroke=\"black\" d=\"M391,-241.8C391,-231.96 391,-219.45 391,-209.14\"/>\n",
       "<polygon fill=\"black\" stroke=\"black\" points=\"394.5,-209.04 391,-199.04 387.5,-209.04 394.5,-209.04\"/>\n",
       "</g>\n",
       "<!-- 140254679151664 -->\n",
       "<g id=\"node16\" class=\"node\">\n",
       "<title>140254679151664</title>\n",
       "<polygon fill=\"lightgrey\" stroke=\"black\" points=\"575,-199 473,-199 473,-178 575,-178 575,-199\"/>\n",
       "<text text-anchor=\"middle\" x=\"524\" y=\"-185.4\" font-family=\"Times,serif\" font-size=\"12.00\">ExpBackward</text>\n",
       "</g>\n",
       "<!-- 140254679151664&#45;&gt;140254679152624 -->\n",
       "<g id=\"edge15\" class=\"edge\">\n",
       "<title>140254679151664&#45;&gt;140254679152624</title>\n",
       "<path fill=\"none\" stroke=\"black\" d=\"M511.66,-177.81C499.25,-168.08 479.92,-152.9 465.26,-141.4\"/>\n",
       "<polygon fill=\"black\" stroke=\"black\" points=\"467.28,-138.54 457.26,-135.12 462.96,-144.05 467.28,-138.54\"/>\n",
       "</g>\n",
       "<!-- 140254679152144 -->\n",
       "<g id=\"node17\" class=\"node\">\n",
       "<title>140254679152144</title>\n",
       "<polygon fill=\"lightgrey\" stroke=\"black\" points=\"575,-270 473,-270 473,-249 575,-249 575,-270\"/>\n",
       "<text text-anchor=\"middle\" x=\"524\" y=\"-256.4\" font-family=\"Times,serif\" font-size=\"12.00\">MmBackward</text>\n",
       "</g>\n",
       "<!-- 140254679152144&#45;&gt;140254679151664 -->\n",
       "<g id=\"edge16\" class=\"edge\">\n",
       "<title>140254679152144&#45;&gt;140254679151664</title>\n",
       "<path fill=\"none\" stroke=\"black\" d=\"M524,-248.91C524,-238.71 524,-222.3 524,-209.31\"/>\n",
       "<polygon fill=\"black\" stroke=\"black\" points=\"527.5,-209.01 524,-199.01 520.5,-209.01 527.5,-209.01\"/>\n",
       "</g>\n",
       "<!-- 140254679152768 -->\n",
       "<g id=\"node18\" class=\"node\">\n",
       "<title>140254679152768</title>\n",
       "<polygon fill=\"lightgrey\" stroke=\"black\" points=\"566.5,-341 479.5,-341 479.5,-320 566.5,-320 566.5,-341\"/>\n",
       "<text text-anchor=\"middle\" x=\"523\" y=\"-327.4\" font-family=\"Times,serif\" font-size=\"12.00\">TBackward</text>\n",
       "</g>\n",
       "<!-- 140254679152768&#45;&gt;140254679152144 -->\n",
       "<g id=\"edge17\" class=\"edge\">\n",
       "<title>140254679152768&#45;&gt;140254679152144</title>\n",
       "<path fill=\"none\" stroke=\"black\" d=\"M523.14,-319.91C523.29,-309.71 523.52,-293.3 523.71,-280.31\"/>\n",
       "<polygon fill=\"black\" stroke=\"black\" points=\"527.22,-280.06 523.86,-270.01 520.22,-279.96 527.22,-280.06\"/>\n",
       "</g>\n",
       "<!-- 140254679151808 -->\n",
       "<g id=\"node19\" class=\"node\">\n",
       "<title>140254679151808</title>\n",
       "<polygon fill=\"lightgrey\" stroke=\"black\" points=\"577,-405 467,-405 467,-384 577,-384 577,-405\"/>\n",
       "<text text-anchor=\"middle\" x=\"522\" y=\"-391.4\" font-family=\"Times,serif\" font-size=\"12.00\">MulBackward0</text>\n",
       "</g>\n",
       "<!-- 140254679151808&#45;&gt;140254679152768 -->\n",
       "<g id=\"edge18\" class=\"edge\">\n",
       "<title>140254679151808&#45;&gt;140254679152768</title>\n",
       "<path fill=\"none\" stroke=\"black\" d=\"M522.16,-383.81C522.29,-375.22 522.5,-362.39 522.68,-351.59\"/>\n",
       "<polygon fill=\"black\" stroke=\"black\" points=\"526.18,-351.38 522.84,-341.32 519.18,-351.27 526.18,-351.38\"/>\n",
       "</g>\n",
       "<!-- 140254679150800&#45;&gt;140254679151808 -->\n",
       "<g id=\"edge19\" class=\"edge\">\n",
       "<title>140254679150800&#45;&gt;140254679151808</title>\n",
       "<path fill=\"none\" stroke=\"black\" d=\"M234.19,-441.79C294.62,-432.07 392.33,-416.35 456.87,-405.97\"/>\n",
       "<polygon fill=\"black\" stroke=\"black\" points=\"457.61,-409.4 466.93,-404.36 456.5,-402.49 457.61,-409.4\"/>\n",
       "</g>\n",
       "<!-- 140254679151952&#45;&gt;140254679151808 -->\n",
       "<g id=\"edge21\" class=\"edge\">\n",
       "<title>140254679151952&#45;&gt;140254679151808</title>\n",
       "<path fill=\"none\" stroke=\"black\" d=\"M576.5,-440.92C566.87,-432.9 552.92,-421.27 541.54,-411.78\"/>\n",
       "<polygon fill=\"black\" stroke=\"black\" points=\"543.73,-409.05 533.81,-405.34 539.25,-414.43 543.73,-409.05\"/>\n",
       "</g>\n",
       "<!-- 140254679153872 -->\n",
       "<g id=\"node22\" class=\"node\">\n",
       "<title>140254679153872</title>\n",
       "<polygon fill=\"lightgrey\" stroke=\"black\" points=\"682,-78 572,-78 572,-57 682,-57 682,-78\"/>\n",
       "<text text-anchor=\"middle\" x=\"627\" y=\"-64.4\" font-family=\"Times,serif\" font-size=\"12.00\">MulBackward0</text>\n",
       "</g>\n",
       "<!-- 140254679153872&#45;&gt;140254679153392 -->\n",
       "<g id=\"edge23\" class=\"edge\">\n",
       "<title>140254679153872&#45;&gt;140254679153392</title>\n",
       "<path fill=\"none\" stroke=\"black\" d=\"M614.11,-56.92C603.21,-48.82 587.36,-37.04 574.54,-27.51\"/>\n",
       "<polygon fill=\"black\" stroke=\"black\" points=\"576.35,-24.5 566.24,-21.34 572.18,-30.12 576.35,-24.5\"/>\n",
       "</g>\n",
       "<!-- 140254679153440 -->\n",
       "<g id=\"node23\" class=\"node\">\n",
       "<title>140254679153440</title>\n",
       "<polygon fill=\"lightgrey\" stroke=\"black\" points=\"824,-135 696,-135 696,-114 824,-114 824,-135\"/>\n",
       "<text text-anchor=\"middle\" x=\"760\" y=\"-121.4\" font-family=\"Times,serif\" font-size=\"12.00\">SigmoidBackward</text>\n",
       "</g>\n",
       "<!-- 140254679153440&#45;&gt;140254679153872 -->\n",
       "<g id=\"edge24\" class=\"edge\">\n",
       "<title>140254679153440&#45;&gt;140254679153872</title>\n",
       "<path fill=\"none\" stroke=\"black\" d=\"M736.83,-113.92C715.51,-105.1 683.65,-91.93 659.73,-82.04\"/>\n",
       "<polygon fill=\"black\" stroke=\"black\" points=\"660.93,-78.74 650.35,-78.16 658.25,-85.21 660.93,-78.74\"/>\n",
       "</g>\n",
       "<!-- 140254679152480 -->\n",
       "<g id=\"node24\" class=\"node\">\n",
       "<title>140254679152480</title>\n",
       "<polygon fill=\"lightblue\" stroke=\"black\" points=\"787,-206 733,-206 733,-171 787,-171 787,-206\"/>\n",
       "<text text-anchor=\"middle\" x=\"760\" y=\"-178.4\" font-family=\"Times,serif\" font-size=\"12.00\"> (1, 1)</text>\n",
       "</g>\n",
       "<!-- 140254679152480&#45;&gt;140254679153440 -->\n",
       "<g id=\"edge25\" class=\"edge\">\n",
       "<title>140254679152480&#45;&gt;140254679153440</title>\n",
       "<path fill=\"none\" stroke=\"black\" d=\"M760,-170.89C760,-162.99 760,-153.5 760,-145.25\"/>\n",
       "<polygon fill=\"black\" stroke=\"black\" points=\"763.5,-145.02 760,-135.02 756.5,-145.02 763.5,-145.02\"/>\n",
       "</g>\n",
       "<!-- 140254679152864 -->\n",
       "<g id=\"node25\" class=\"node\">\n",
       "<title>140254679152864</title>\n",
       "<polygon fill=\"lightgrey\" stroke=\"black\" points=\"678,-135 576,-135 576,-114 678,-114 678,-135\"/>\n",
       "<text text-anchor=\"middle\" x=\"627\" y=\"-121.4\" font-family=\"Times,serif\" font-size=\"12.00\">ExpBackward</text>\n",
       "</g>\n",
       "<!-- 140254679152864&#45;&gt;140254679153872 -->\n",
       "<g id=\"edge26\" class=\"edge\">\n",
       "<title>140254679152864&#45;&gt;140254679153872</title>\n",
       "<path fill=\"none\" stroke=\"black\" d=\"M627,-113.92C627,-106.91 627,-97.14 627,-88.47\"/>\n",
       "<polygon fill=\"black\" stroke=\"black\" points=\"630.5,-88.34 627,-78.34 623.5,-88.34 630.5,-88.34\"/>\n",
       "</g>\n",
       "<!-- 140254679150896 -->\n",
       "<g id=\"node26\" class=\"node\">\n",
       "<title>140254679150896</title>\n",
       "<polygon fill=\"lightgrey\" stroke=\"black\" points=\"697,-199 595,-199 595,-178 697,-178 697,-199\"/>\n",
       "<text text-anchor=\"middle\" x=\"646\" y=\"-185.4\" font-family=\"Times,serif\" font-size=\"12.00\">ExpBackward</text>\n",
       "</g>\n",
       "<!-- 140254679150896&#45;&gt;140254679152864 -->\n",
       "<g id=\"edge27\" class=\"edge\">\n",
       "<title>140254679150896&#45;&gt;140254679152864</title>\n",
       "<path fill=\"none\" stroke=\"black\" d=\"M643.03,-177.81C640.34,-169.04 636.3,-155.85 632.95,-144.91\"/>\n",
       "<polygon fill=\"black\" stroke=\"black\" points=\"636.29,-143.86 630.01,-135.32 629.59,-145.91 636.29,-143.86\"/>\n",
       "</g>\n",
       "<!-- 140254679152336 -->\n",
       "<g id=\"node27\" class=\"node\">\n",
       "<title>140254679152336</title>\n",
       "<polygon fill=\"lightgrey\" stroke=\"black\" points=\"701,-270 599,-270 599,-249 701,-249 701,-270\"/>\n",
       "<text text-anchor=\"middle\" x=\"650\" y=\"-256.4\" font-family=\"Times,serif\" font-size=\"12.00\">MmBackward</text>\n",
       "</g>\n",
       "<!-- 140254679152336&#45;&gt;140254679150896 -->\n",
       "<g id=\"edge28\" class=\"edge\">\n",
       "<title>140254679152336&#45;&gt;140254679150896</title>\n",
       "<path fill=\"none\" stroke=\"black\" d=\"M649.44,-248.91C648.85,-238.71 647.9,-222.3 647.15,-209.31\"/>\n",
       "<polygon fill=\"black\" stroke=\"black\" points=\"650.62,-208.79 646.55,-199.01 643.64,-209.2 650.62,-208.79\"/>\n",
       "</g>\n",
       "<!-- 140254679150848 -->\n",
       "<g id=\"node28\" class=\"node\">\n",
       "<title>140254679150848</title>\n",
       "<polygon fill=\"lightgrey\" stroke=\"black\" points=\"693.5,-341 606.5,-341 606.5,-320 693.5,-320 693.5,-341\"/>\n",
       "<text text-anchor=\"middle\" x=\"650\" y=\"-327.4\" font-family=\"Times,serif\" font-size=\"12.00\">TBackward</text>\n",
       "</g>\n",
       "<!-- 140254679150848&#45;&gt;140254679152336 -->\n",
       "<g id=\"edge29\" class=\"edge\">\n",
       "<title>140254679150848&#45;&gt;140254679152336</title>\n",
       "<path fill=\"none\" stroke=\"black\" d=\"M650,-319.91C650,-309.71 650,-293.3 650,-280.31\"/>\n",
       "<polygon fill=\"black\" stroke=\"black\" points=\"653.5,-280.01 650,-270.01 646.5,-280.01 653.5,-280.01\"/>\n",
       "</g>\n",
       "<!-- 140254679153680 -->\n",
       "<g id=\"node29\" class=\"node\">\n",
       "<title>140254679153680</title>\n",
       "<polygon fill=\"lightgrey\" stroke=\"black\" points=\"705,-405 595,-405 595,-384 705,-384 705,-405\"/>\n",
       "<text text-anchor=\"middle\" x=\"650\" y=\"-391.4\" font-family=\"Times,serif\" font-size=\"12.00\">MulBackward0</text>\n",
       "</g>\n",
       "<!-- 140254679153680&#45;&gt;140254679150848 -->\n",
       "<g id=\"edge30\" class=\"edge\">\n",
       "<title>140254679153680&#45;&gt;140254679150848</title>\n",
       "<path fill=\"none\" stroke=\"black\" d=\"M650,-383.81C650,-375.22 650,-362.39 650,-351.59\"/>\n",
       "<polygon fill=\"black\" stroke=\"black\" points=\"653.5,-351.32 650,-341.32 646.5,-351.32 653.5,-351.32\"/>\n",
       "</g>\n",
       "<!-- 140254679152720&#45;&gt;140254679153680 -->\n",
       "<g id=\"edge31\" class=\"edge\">\n",
       "<title>140254679152720&#45;&gt;140254679153680</title>\n",
       "<path fill=\"none\" stroke=\"black\" d=\"M486.49,-440.92C519.61,-431.72 569.78,-417.78 605.81,-407.77\"/>\n",
       "<polygon fill=\"black\" stroke=\"black\" points=\"606.88,-411.11 615.57,-405.06 605,-404.37 606.88,-411.11\"/>\n",
       "</g>\n",
       "<!-- 140254679153056&#45;&gt;140254679153680 -->\n",
       "<g id=\"edge33\" class=\"edge\">\n",
       "<title>140254679153056&#45;&gt;140254679153680</title>\n",
       "<path fill=\"none\" stroke=\"black\" d=\"M719.37,-440.92C706.68,-432.61 688.08,-420.44 673.34,-410.78\"/>\n",
       "<polygon fill=\"black\" stroke=\"black\" points=\"675.03,-407.7 664.75,-405.16 671.19,-413.56 675.03,-407.7\"/>\n",
       "</g>\n",
       "</g>\n",
       "</svg>\n"
      ],
      "text/plain": [
       "<graphviz.dot.Digraph at 0x7f90704261f0>"
      ]
     },
     "execution_count": 64,
     "metadata": {},
     "output_type": "execute_result"
    }
   ],
   "source": [
    "make_dot(ALU(ques))"
   ]
  },
  {
   "cell_type": "code",
   "execution_count": null,
   "metadata": {},
   "outputs": [],
   "source": []
  }
 ],
 "metadata": {
  "kernelspec": {
   "display_name": "Python 3",
   "language": "python",
   "name": "python3"
  },
  "language_info": {
   "codemirror_mode": {
    "name": "ipython",
    "version": 3
   },
   "file_extension": ".py",
   "mimetype": "text/x-python",
   "name": "python",
   "nbconvert_exporter": "python",
   "pygments_lexer": "ipython3",
   "version": "3.8.0"
  }
 },
 "nbformat": 4,
 "nbformat_minor": 4
}
